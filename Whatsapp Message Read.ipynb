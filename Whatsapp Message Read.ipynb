{
 "cells": [
  {
   "cell_type": "code",
   "execution_count": 2,
   "metadata": {},
   "outputs": [],
   "source": [
    "from pyspark import SparkContext, SparkConf\n",
    "\n",
    "conf = SparkConf().setAppName(\"CrawlWalkRunFly\")\n",
    "sc = SparkContext.getOrCreate(conf)"
   ]
  },
  {
   "cell_type": "code",
   "execution_count": 3,
   "metadata": {},
   "outputs": [
    {
     "data": {
      "text/plain": [
       "[u'pm  ayankr rss onek delay hoe gechhe',\n",
       " u'pm  ayankr rss sheta amar jonnoi mostly',\n",
       " u'pm  nivedita mondal achha amar workbench die aws er mysql ta connct hoye geche',\n",
       " u'pm  nivedita mondal access kora jachhe',\n",
       " u'pm  ayankr rss good',\n",
       " u'pm  ayankr rss st point done',\n",
       " u'pm  ayankr rss nd point tq check koro ebar',\n",
       " u'pm  nivedita mondal ok',\n",
       " u'pm  ayankr rss hochhe',\n",
       " u'pm  ayankr rss rajesh spark command ta cholchhe',\n",
       " u'pm  rajesh pyne chalachi',\n",
       " u'pm  rajesh pyne onek kichu security acheekhane',\n",
       " u'pm  ayankr rss achha',\n",
       " u'pm  ayankr rss ha sheta thik',\n",
       " u'pm  rajesh pyne directory create hochilo na hdfs e',\n",
       " u'pm  rajesh pyne ekhun ota kora jache',\n",
       " u'pm  rajesh pyne eibar spark command ta chalabo',\n",
       " u'pm  ayankr rss note korchho to ki vabe solve hochhe',\n",
       " u'pm  rajesh pyne hmm']"
      ]
     },
     "execution_count": 3,
     "metadata": {},
     "output_type": "execute_result"
    }
   ],
   "source": [
    "waRDD = sc.textFile(\"/user/rajesh.pyne/whatsappMsg/wa.txt\")\n",
    "\n",
    "import re\n",
    "\n",
    "def wordclean(x):\n",
    "    return re.sub(\"[^a-zA-Z\\s]+\",\"\", x).lower().strip()\n",
    "\n",
    "waRDDList = waRDD.map(lambda x : wordclean(x))\n",
    "waRDDList.take(60)[41: ]"
   ]
  },
  {
   "cell_type": "code",
   "execution_count": 4,
   "metadata": {},
   "outputs": [
    {
     "data": {
      "text/plain": [
       "[(u'pm', 1),\n",
       " (u'messages', 1),\n",
       " (u'to', 1),\n",
       " (u'this', 1),\n",
       " (u'group', 1),\n",
       " (u'are', 1),\n",
       " (u'now', 1),\n",
       " (u'secured', 1),\n",
       " (u'with', 1),\n",
       " (u'endtoend', 1)]"
      ]
     },
     "execution_count": 4,
     "metadata": {},
     "output_type": "execute_result"
    }
   ],
   "source": [
    "waRDDwords = waRDDList.flatMap( lambda x: x.split(\" \"))\n",
    "waRDDwords = waRDDwords.filter(lambda x: len(x) != 0)\n",
    "waRDDwordPairs = waRDDwords.map(lambda x: (x,1))\n",
    "waRDDwordPairs.take(10)"
   ]
  },
  {
   "cell_type": "code",
   "execution_count": 7,
   "metadata": {},
   "outputs": [
    {
     "data": {
      "text/plain": [
       "[(u'pm', 7901),\n",
       " (u'ayankr', 7639),\n",
       " (u'rss', 7639),\n",
       " (u'am', 6884),\n",
       " (u'rajesh', 3972),\n",
       " (u'pyne', 3706),\n",
       " (u'nivedita', 3594),\n",
       " (u'mondal', 3423),\n",
       " (u'ta', 2088),\n",
       " (u'na', 1420),\n",
       " (u'e', 1392),\n",
       " (u'er', 1113),\n",
       " (u'kore', 1043),\n",
       " (u'ki', 949),\n",
       " (u'to', 905),\n",
       " (u'ami', 800),\n",
       " (u'r', 769),\n",
       " (u'ha', 681),\n",
       " (u'ekta', 673),\n",
       " (u'hobe', 643),\n",
       " (u'korte', 528),\n",
       " (u'ok', 514),\n",
       " (u'da', 469),\n",
       " (u'koro', 417),\n",
       " (u'tumi', 398),\n",
       " (u'hoe', 388),\n",
       " (u'die', 387),\n",
       " (u'eta', 375),\n",
       " (u'thik', 369),\n",
       " (u'gulo', 368),\n",
       " (u'te', 357),\n",
       " (u'ache', 337),\n",
       " (u'kaj', 328),\n",
       " (u'hmm', 328),\n",
       " (u'ei', 327),\n",
       " (u'achha', 313),\n",
       " (u'achhe', 307),\n",
       " (u'korbe', 280),\n",
       " (u'api', 272),\n",
       " (u'file', 268),\n",
       " (u'k', 267),\n",
       " (u'okk', 267),\n",
       " (u'sob', 264),\n",
       " (u'jabe', 263),\n",
       " (u'korbo', 256),\n",
       " (u'kora', 252),\n",
       " (u'theke', 248),\n",
       " (u'code', 246),\n",
       " (u'ota', 244),\n",
       " (u'tahole', 242),\n",
       " (u'han', 239),\n",
       " (u'amar', 235),\n",
       " (u'tai', 234),\n",
       " (u'mane', 231),\n",
       " (u'sheta', 225),\n",
       " (u'kal', 221),\n",
       " (u'hochhe', 206),\n",
       " (u'kichu', 203),\n",
       " (u'o', 202),\n",
       " (u'amra', 200),\n",
       " (u'data', 189),\n",
       " (u'use', 187),\n",
       " (u'oi', 186),\n",
       " (u'search', 186),\n",
       " (u'jodi', 185),\n",
       " (u'sudhu', 184),\n",
       " (u'mail', 184),\n",
       " (u'ekbar', 182),\n",
       " (u'amader', 182),\n",
       " (u'ektu', 180)]"
      ]
     },
     "execution_count": 7,
     "metadata": {},
     "output_type": "execute_result"
    }
   ],
   "source": [
    "waRDDwordCount = waRDDwordPairs.reduceByKey(lambda a, b : a + b)\n",
    "waRDDwordCount.takeOrdered(70, lambda x : -x[1])"
   ]
  },
  {
   "cell_type": "code",
   "execution_count": null,
   "metadata": {},
   "outputs": [],
   "source": []
  }
 ],
 "metadata": {
  "kernelspec": {
   "display_name": "pySpark (Spark 2.1.0)",
   "language": "python",
   "name": "pyspark"
  },
  "language_info": {
   "codemirror_mode": {
    "name": "ipython",
    "version": 2
   },
   "file_extension": ".py",
   "mimetype": "text/x-python",
   "name": "python",
   "nbconvert_exporter": "python",
   "pygments_lexer": "ipython2",
   "version": "2.7.5"
  }
 },
 "nbformat": 4,
 "nbformat_minor": 2
}
